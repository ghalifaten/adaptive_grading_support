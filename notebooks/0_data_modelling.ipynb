{
 "cells": [
  {
   "cell_type": "markdown",
   "id": "e2c01db2-f108-4490-b259-3a33755e92a8",
   "metadata": {},
   "source": [
    "The feedback prize dataset comes with different csv files. Here we are discovering the content of these files and modelling the data. "
   ]
  },
  {
   "cell_type": "code",
   "execution_count": 1,
   "id": "36f93c31-d8fd-47ea-8287-2ced0e75a808",
   "metadata": {},
   "outputs": [],
   "source": [
    "import pandas as pd\n",
    "import matplotlib.pyplot as plt"
   ]
  },
  {
   "cell_type": "markdown",
   "id": "1fe538bd-29aa-40e9-8f76-e257679c4da6",
   "metadata": {},
   "source": [
    "**text_and_labels.csv**"
   ]
  },
  {
   "cell_type": "code",
   "execution_count": 2,
   "id": "4648651e-f424-4177-82fe-a3ee14f36e10",
   "metadata": {},
   "outputs": [
    {
     "data": {
      "text/html": [
       "<div>\n",
       "<style scoped>\n",
       "    .dataframe tbody tr th:only-of-type {\n",
       "        vertical-align: middle;\n",
       "    }\n",
       "\n",
       "    .dataframe tbody tr th {\n",
       "        vertical-align: top;\n",
       "    }\n",
       "\n",
       "    .dataframe thead th {\n",
       "        text-align: right;\n",
       "    }\n",
       "</style>\n",
       "<table border=\"1\" class=\"dataframe\">\n",
       "  <thead>\n",
       "    <tr style=\"text-align: right;\">\n",
       "      <th></th>\n",
       "      <th>text</th>\n",
       "      <th>tp_Claim</th>\n",
       "      <th>tp_Concluding Statement</th>\n",
       "      <th>tp_Counterclaim</th>\n",
       "      <th>tp_Evidence</th>\n",
       "      <th>tp_Lead</th>\n",
       "      <th>tp_Position</th>\n",
       "      <th>tp_Rebuttal</th>\n",
       "      <th>type</th>\n",
       "    </tr>\n",
       "  </thead>\n",
       "  <tbody>\n",
       "    <tr>\n",
       "      <th>0</th>\n",
       "      <td>Modern humans today are always on their phone....</td>\n",
       "      <td>0</td>\n",
       "      <td>0</td>\n",
       "      <td>0</td>\n",
       "      <td>0</td>\n",
       "      <td>1</td>\n",
       "      <td>0</td>\n",
       "      <td>0</td>\n",
       "      <td>Lead</td>\n",
       "    </tr>\n",
       "    <tr>\n",
       "      <th>1</th>\n",
       "      <td>They are some really bad consequences when stu...</td>\n",
       "      <td>0</td>\n",
       "      <td>0</td>\n",
       "      <td>0</td>\n",
       "      <td>0</td>\n",
       "      <td>0</td>\n",
       "      <td>1</td>\n",
       "      <td>0</td>\n",
       "      <td>Position</td>\n",
       "    </tr>\n",
       "    <tr>\n",
       "      <th>2</th>\n",
       "      <td>Some certain areas in the United States ban ph...</td>\n",
       "      <td>0</td>\n",
       "      <td>0</td>\n",
       "      <td>0</td>\n",
       "      <td>1</td>\n",
       "      <td>0</td>\n",
       "      <td>0</td>\n",
       "      <td>0</td>\n",
       "      <td>Evidence</td>\n",
       "    </tr>\n",
       "    <tr>\n",
       "      <th>3</th>\n",
       "      <td>When people have phones, they know about certa...</td>\n",
       "      <td>0</td>\n",
       "      <td>0</td>\n",
       "      <td>0</td>\n",
       "      <td>1</td>\n",
       "      <td>0</td>\n",
       "      <td>0</td>\n",
       "      <td>0</td>\n",
       "      <td>Evidence</td>\n",
       "    </tr>\n",
       "    <tr>\n",
       "      <th>4</th>\n",
       "      <td>Driving is one of the way how to get around. P...</td>\n",
       "      <td>1</td>\n",
       "      <td>0</td>\n",
       "      <td>0</td>\n",
       "      <td>0</td>\n",
       "      <td>0</td>\n",
       "      <td>0</td>\n",
       "      <td>0</td>\n",
       "      <td>Claim</td>\n",
       "    </tr>\n",
       "  </tbody>\n",
       "</table>\n",
       "</div>"
      ],
      "text/plain": [
       "                                                text  tp_Claim  \\\n",
       "0  Modern humans today are always on their phone....         0   \n",
       "1  They are some really bad consequences when stu...         0   \n",
       "2  Some certain areas in the United States ban ph...         0   \n",
       "3  When people have phones, they know about certa...         0   \n",
       "4  Driving is one of the way how to get around. P...         1   \n",
       "\n",
       "   tp_Concluding Statement  tp_Counterclaim  tp_Evidence  tp_Lead  \\\n",
       "0                        0                0            0        1   \n",
       "1                        0                0            0        0   \n",
       "2                        0                0            1        0   \n",
       "3                        0                0            1        0   \n",
       "4                        0                0            0        0   \n",
       "\n",
       "   tp_Position  tp_Rebuttal      type  \n",
       "0            0            0      Lead  \n",
       "1            1            0  Position  \n",
       "2            0            0  Evidence  \n",
       "3            0            0  Evidence  \n",
       "4            0            0     Claim  "
      ]
     },
     "execution_count": 2,
     "metadata": {},
     "output_type": "execute_result"
    }
   ],
   "source": [
    "file = \"../data/feedback_prize/text_and_labels.csv\"\n",
    "df = pd.read_csv(file)\n",
    "df.head()"
   ]
  },
  {
   "cell_type": "code",
   "execution_count": 3,
   "id": "8059293b-0bed-4ab7-9b1d-8d8060c5843b",
   "metadata": {},
   "outputs": [
    {
     "name": "stderr",
     "output_type": "stream",
     "text": [
      "/tmp/ipykernel_19196/3932782151.py:1: FutureWarning: The default value of numeric_only in DataFrameGroupBy.sum is deprecated. In a future version, numeric_only will default to False. Either specify numeric_only or select only columns which should be valid for the function.\n",
      "  df.groupby('type').sum()\n"
     ]
    },
    {
     "data": {
      "text/html": [
       "<div>\n",
       "<style scoped>\n",
       "    .dataframe tbody tr th:only-of-type {\n",
       "        vertical-align: middle;\n",
       "    }\n",
       "\n",
       "    .dataframe tbody tr th {\n",
       "        vertical-align: top;\n",
       "    }\n",
       "\n",
       "    .dataframe thead th {\n",
       "        text-align: right;\n",
       "    }\n",
       "</style>\n",
       "<table border=\"1\" class=\"dataframe\">\n",
       "  <thead>\n",
       "    <tr style=\"text-align: right;\">\n",
       "      <th></th>\n",
       "      <th>tp_Claim</th>\n",
       "      <th>tp_Concluding Statement</th>\n",
       "      <th>tp_Counterclaim</th>\n",
       "      <th>tp_Evidence</th>\n",
       "      <th>tp_Lead</th>\n",
       "      <th>tp_Position</th>\n",
       "      <th>tp_Rebuttal</th>\n",
       "    </tr>\n",
       "    <tr>\n",
       "      <th>type</th>\n",
       "      <th></th>\n",
       "      <th></th>\n",
       "      <th></th>\n",
       "      <th></th>\n",
       "      <th></th>\n",
       "      <th></th>\n",
       "      <th></th>\n",
       "    </tr>\n",
       "  </thead>\n",
       "  <tbody>\n",
       "    <tr>\n",
       "      <th>Claim</th>\n",
       "      <td>50208</td>\n",
       "      <td>0</td>\n",
       "      <td>0</td>\n",
       "      <td>0</td>\n",
       "      <td>0</td>\n",
       "      <td>0</td>\n",
       "      <td>0</td>\n",
       "    </tr>\n",
       "    <tr>\n",
       "      <th>Concluding Statement</th>\n",
       "      <td>0</td>\n",
       "      <td>13505</td>\n",
       "      <td>0</td>\n",
       "      <td>0</td>\n",
       "      <td>0</td>\n",
       "      <td>0</td>\n",
       "      <td>0</td>\n",
       "    </tr>\n",
       "    <tr>\n",
       "      <th>Counterclaim</th>\n",
       "      <td>0</td>\n",
       "      <td>0</td>\n",
       "      <td>5817</td>\n",
       "      <td>0</td>\n",
       "      <td>0</td>\n",
       "      <td>0</td>\n",
       "      <td>0</td>\n",
       "    </tr>\n",
       "    <tr>\n",
       "      <th>Evidence</th>\n",
       "      <td>0</td>\n",
       "      <td>0</td>\n",
       "      <td>0</td>\n",
       "      <td>45702</td>\n",
       "      <td>0</td>\n",
       "      <td>0</td>\n",
       "      <td>0</td>\n",
       "    </tr>\n",
       "    <tr>\n",
       "      <th>Lead</th>\n",
       "      <td>0</td>\n",
       "      <td>0</td>\n",
       "      <td>0</td>\n",
       "      <td>0</td>\n",
       "      <td>9305</td>\n",
       "      <td>0</td>\n",
       "      <td>0</td>\n",
       "    </tr>\n",
       "    <tr>\n",
       "      <th>Position</th>\n",
       "      <td>0</td>\n",
       "      <td>0</td>\n",
       "      <td>0</td>\n",
       "      <td>0</td>\n",
       "      <td>0</td>\n",
       "      <td>15419</td>\n",
       "      <td>0</td>\n",
       "    </tr>\n",
       "    <tr>\n",
       "      <th>Rebuttal</th>\n",
       "      <td>0</td>\n",
       "      <td>0</td>\n",
       "      <td>0</td>\n",
       "      <td>0</td>\n",
       "      <td>0</td>\n",
       "      <td>0</td>\n",
       "      <td>4337</td>\n",
       "    </tr>\n",
       "  </tbody>\n",
       "</table>\n",
       "</div>"
      ],
      "text/plain": [
       "                      tp_Claim  tp_Concluding Statement  tp_Counterclaim  \\\n",
       "type                                                                       \n",
       "Claim                    50208                        0                0   \n",
       "Concluding Statement         0                    13505                0   \n",
       "Counterclaim                 0                        0             5817   \n",
       "Evidence                     0                        0                0   \n",
       "Lead                         0                        0                0   \n",
       "Position                     0                        0                0   \n",
       "Rebuttal                     0                        0                0   \n",
       "\n",
       "                      tp_Evidence  tp_Lead  tp_Position  tp_Rebuttal  \n",
       "type                                                                  \n",
       "Claim                           0        0            0            0  \n",
       "Concluding Statement            0        0            0            0  \n",
       "Counterclaim                    0        0            0            0  \n",
       "Evidence                    45702        0            0            0  \n",
       "Lead                            0     9305            0            0  \n",
       "Position                        0        0        15419            0  \n",
       "Rebuttal                        0        0            0         4337  "
      ]
     },
     "execution_count": 3,
     "metadata": {},
     "output_type": "execute_result"
    }
   ],
   "source": [
    "df.groupby('type').sum()"
   ]
  },
  {
   "cell_type": "code",
   "execution_count": 4,
   "id": "cf897935-9ee8-4f3b-898a-2b6f8b4995ec",
   "metadata": {},
   "outputs": [
    {
     "data": {
      "text/plain": [
       "<AxesSubplot: xlabel='type'>"
      ]
     },
     "execution_count": 4,
     "metadata": {},
     "output_type": "execute_result"
    },
    {
     "data": {
      "image/png": "[encoded data removed]",
      "text/plain": [
       "<Figure size 640x480 with 1 Axes>"
      ]
     },
     "metadata": {},
     "output_type": "display_data"
    }
   ],
   "source": [
    "count = df.groupby(by='type').count().reset_index().rename(columns={'text':'count'})\n",
    "count.plot(x='type', y='count', kind='bar')"
   ]
  },
  {
   "cell_type": "code",
   "execution_count": 5,
   "id": "4d1973ce-7a6c-4417-92cd-17eea3716d05",
   "metadata": {},
   "outputs": [
    {
     "data": {
      "text/plain": [
       "<AxesSubplot: xlabel='type'>"
      ]
     },
     "execution_count": 5,
     "metadata": {},
     "output_type": "execute_result"
    },
    {
     "data": {
      "image/png": "[encoded data removed]",
      "text/plain": [
       "<Figure size 640x480 with 1 Axes>"
      ]
     },
     "metadata": {},
     "output_type": "display_data"
    }
   ],
   "source": [
    "count = df.groupby(by='tp_Claim').count().reset_index().rename(columns={'text':'count'})\n",
    "count.plot(x='type', y='count', kind='bar')"
   ]
  },
  {
   "cell_type": "markdown",
   "id": "768a737a-0de0-4b35-a61b-3cdee1279df5",
   "metadata": {},
   "source": [
    "**corrected_train.csv**"
   ]
  },
  {
   "cell_type": "code",
   "execution_count": 9,
   "id": "2e85ff8a-24e1-4749-b461-16f9ce3056de",
   "metadata": {},
   "outputs": [
    {
     "data": {
      "text/html": [
       "<div>\n",
       "<style scoped>\n",
       "    .dataframe tbody tr th:only-of-type {\n",
       "        vertical-align: middle;\n",
       "    }\n",
       "\n",
       "    .dataframe tbody tr th {\n",
       "        vertical-align: top;\n",
       "    }\n",
       "\n",
       "    .dataframe thead th {\n",
       "        text-align: right;\n",
       "    }\n",
       "</style>\n",
       "<table border=\"1\" class=\"dataframe\">\n",
       "  <thead>\n",
       "    <tr style=\"text-align: right;\">\n",
       "      <th></th>\n",
       "      <th>id</th>\n",
       "      <th>discourse_id</th>\n",
       "      <th>discourse_start</th>\n",
       "      <th>discourse_end</th>\n",
       "      <th>discourse_text</th>\n",
       "      <th>discourse_type</th>\n",
       "      <th>discourse_type_num</th>\n",
       "      <th>predictionstring</th>\n",
       "      <th>text_by_index</th>\n",
       "      <th>new_start</th>\n",
       "      <th>new_end</th>\n",
       "      <th>text_by_new_index</th>\n",
       "      <th>new_predictionstring</th>\n",
       "    </tr>\n",
       "  </thead>\n",
       "  <tbody>\n",
       "    <tr>\n",
       "      <th>0</th>\n",
       "      <td>423A1CA112E2</td>\n",
       "      <td>1.622628e+12</td>\n",
       "      <td>8.0</td>\n",
       "      <td>229.0</td>\n",
       "      <td>Modern humans today are always on their phone....</td>\n",
       "      <td>Lead</td>\n",
       "      <td>Lead 1</td>\n",
       "      <td>1 2 3 4 5 6 7 8 9 10 11 12 13 14 15 16 17 18 1...</td>\n",
       "      <td>Modern humans today are always on their phone....</td>\n",
       "      <td>8</td>\n",
       "      <td>230</td>\n",
       "      <td>Modern humans today are always on their phone....</td>\n",
       "      <td>1 2 3 4 5 6 7 8 9 10 11 12 13 14 15 16 17 18 1...</td>\n",
       "    </tr>\n",
       "    <tr>\n",
       "      <th>1</th>\n",
       "      <td>423A1CA112E2</td>\n",
       "      <td>1.622628e+12</td>\n",
       "      <td>230.0</td>\n",
       "      <td>312.0</td>\n",
       "      <td>They are some really bad consequences when stu...</td>\n",
       "      <td>Position</td>\n",
       "      <td>Position 1</td>\n",
       "      <td>45 46 47 48 49 50 51 52 53 54 55 56 57 58 59</td>\n",
       "      <td>They are some really bad consequences when stu...</td>\n",
       "      <td>230</td>\n",
       "      <td>313</td>\n",
       "      <td>They are some really bad consequences when stu...</td>\n",
       "      <td>45 46 47 48 49 50 51 52 53 54 55 56 57 58 59</td>\n",
       "    </tr>\n",
       "    <tr>\n",
       "      <th>2</th>\n",
       "      <td>423A1CA112E2</td>\n",
       "      <td>1.622628e+12</td>\n",
       "      <td>313.0</td>\n",
       "      <td>401.0</td>\n",
       "      <td>Some certain areas in the United States ban ph...</td>\n",
       "      <td>Evidence</td>\n",
       "      <td>Evidence 1</td>\n",
       "      <td>60 61 62 63 64 65 66 67 68 69 70 71 72 73 74 75</td>\n",
       "      <td>Some certain areas in the United States ban ph...</td>\n",
       "      <td>313</td>\n",
       "      <td>401</td>\n",
       "      <td>Some certain areas in the United States ban ph...</td>\n",
       "      <td>60 61 62 63 64 65 66 67 68 69 70 71 72 73 74 75</td>\n",
       "    </tr>\n",
       "    <tr>\n",
       "      <th>3</th>\n",
       "      <td>423A1CA112E2</td>\n",
       "      <td>1.622628e+12</td>\n",
       "      <td>402.0</td>\n",
       "      <td>758.0</td>\n",
       "      <td>When people have phones, they know about certa...</td>\n",
       "      <td>Evidence</td>\n",
       "      <td>Evidence 2</td>\n",
       "      <td>76 77 78 79 80 81 82 83 84 85 86 87 88 89 90 9...</td>\n",
       "      <td>When people have phones, they know about certa...</td>\n",
       "      <td>402</td>\n",
       "      <td>758</td>\n",
       "      <td>When people have phones, they know about certa...</td>\n",
       "      <td>76 77 78 79 80 81 82 83 84 85 86 87 88 89 90 9...</td>\n",
       "    </tr>\n",
       "    <tr>\n",
       "      <th>4</th>\n",
       "      <td>423A1CA112E2</td>\n",
       "      <td>1.622628e+12</td>\n",
       "      <td>759.0</td>\n",
       "      <td>886.0</td>\n",
       "      <td>Driving is one of the way how to get around. P...</td>\n",
       "      <td>Claim</td>\n",
       "      <td>Claim 1</td>\n",
       "      <td>139 140 141 142 143 144 145 146 147 148 149 15...</td>\n",
       "      <td>Driving is one of the way how to get around. P...</td>\n",
       "      <td>759</td>\n",
       "      <td>887</td>\n",
       "      <td>Driving is one of the way how to get around. P...</td>\n",
       "      <td>139 140 141 142 143 144 145 146 147 148 149 15...</td>\n",
       "    </tr>\n",
       "  </tbody>\n",
       "</table>\n",
       "</div>"
      ],
      "text/plain": [
       "             id  discourse_id  discourse_start  discourse_end  \\\n",
       "0  423A1CA112E2  1.622628e+12              8.0          229.0   \n",
       "1  423A1CA112E2  1.622628e+12            230.0          312.0   \n",
       "2  423A1CA112E2  1.622628e+12            313.0          401.0   \n",
       "3  423A1CA112E2  1.622628e+12            402.0          758.0   \n",
       "4  423A1CA112E2  1.622628e+12            759.0          886.0   \n",
       "\n",
       "                                      discourse_text discourse_type  \\\n",
       "0  Modern humans today are always on their phone....           Lead   \n",
       "1  They are some really bad consequences when stu...       Position   \n",
       "2  Some certain areas in the United States ban ph...       Evidence   \n",
       "3  When people have phones, they know about certa...       Evidence   \n",
       "4  Driving is one of the way how to get around. P...          Claim   \n",
       "\n",
       "  discourse_type_num                                   predictionstring  \\\n",
       "0             Lead 1  1 2 3 4 5 6 7 8 9 10 11 12 13 14 15 16 17 18 1...   \n",
       "1         Position 1       45 46 47 48 49 50 51 52 53 54 55 56 57 58 59   \n",
       "2         Evidence 1    60 61 62 63 64 65 66 67 68 69 70 71 72 73 74 75   \n",
       "3         Evidence 2  76 77 78 79 80 81 82 83 84 85 86 87 88 89 90 9...   \n",
       "4            Claim 1  139 140 141 142 143 144 145 146 147 148 149 15...   \n",
       "\n",
       "                                       text_by_index  new_start  new_end  \\\n",
       "0  Modern humans today are always on their phone....          8      230   \n",
       "1  They are some really bad consequences when stu...        230      313   \n",
       "2  Some certain areas in the United States ban ph...        313      401   \n",
       "3  When people have phones, they know about certa...        402      758   \n",
       "4  Driving is one of the way how to get around. P...        759      887   \n",
       "\n",
       "                                   text_by_new_index  \\\n",
       "0  Modern humans today are always on their phone....   \n",
       "1  They are some really bad consequences when stu...   \n",
       "2  Some certain areas in the United States ban ph...   \n",
       "3  When people have phones, they know about certa...   \n",
       "4  Driving is one of the way how to get around. P...   \n",
       "\n",
       "                                new_predictionstring  \n",
       "0  1 2 3 4 5 6 7 8 9 10 11 12 13 14 15 16 17 18 1...  \n",
       "1       45 46 47 48 49 50 51 52 53 54 55 56 57 58 59  \n",
       "2    60 61 62 63 64 65 66 67 68 69 70 71 72 73 74 75  \n",
       "3  76 77 78 79 80 81 82 83 84 85 86 87 88 89 90 9...  \n",
       "4  139 140 141 142 143 144 145 146 147 148 149 15...  "
      ]
     },
     "execution_count": 9,
     "metadata": {},
     "output_type": "execute_result"
    }
   ],
   "source": [
    "file = \"../data/feedback_prize/corrected_train.csv\"\n",
    "\n",
    "df = pd.read_csv(file)\n",
    "df.head()"
   ]
  },
  {
   "cell_type": "code",
   "execution_count": 10,
   "id": "814edc6d-7660-4845-b59c-fa3386803a7e",
   "metadata": {},
   "outputs": [
    {
     "data": {
      "text/plain": [
       "<AxesSubplot: xlabel='discourse_type'>"
      ]
     },
     "execution_count": 10,
     "metadata": {},
     "output_type": "execute_result"
    },
    {
     "data": {
      "image/png": "[encoded data removed]",
      "text/plain": [
       "<Figure size 640x480 with 1 Axes>"
      ]
     },
     "metadata": {},
     "output_type": "display_data"
    }
   ],
   "source": [
    "count = df.groupby(by='discourse_type').count().reset_index().rename(columns={'discourse_text':'count'})\n",
    "count.plot(x='discourse_type', y='count', kind='bar')"
   ]
  },
  {
   "cell_type": "markdown",
   "id": "23268843-2d93-424f-b1ff-609e1cb80992",
   "metadata": {},
   "source": [
    "**feedback_prize_input.csv**"
   ]
  },
  {
   "cell_type": "code",
   "execution_count": 11,
   "id": "413ec42a-08c3-4134-bf28-e9efe1828c16",
   "metadata": {},
   "outputs": [
    {
     "data": {
      "text/html": [
       "<div>\n",
       "<style scoped>\n",
       "    .dataframe tbody tr th:only-of-type {\n",
       "        vertical-align: middle;\n",
       "    }\n",
       "\n",
       "    .dataframe tbody tr th {\n",
       "        vertical-align: top;\n",
       "    }\n",
       "\n",
       "    .dataframe thead th {\n",
       "        text-align: right;\n",
       "    }\n",
       "</style>\n",
       "<table border=\"1\" class=\"dataframe\">\n",
       "  <thead>\n",
       "    <tr style=\"text-align: right;\">\n",
       "      <th></th>\n",
       "      <th>text</th>\n",
       "      <th>cat_label</th>\n",
       "    </tr>\n",
       "  </thead>\n",
       "  <tbody>\n",
       "    <tr>\n",
       "      <th>0</th>\n",
       "      <td>Modern humans today are always on their phone....</td>\n",
       "      <td>Lead</td>\n",
       "    </tr>\n",
       "    <tr>\n",
       "      <th>1</th>\n",
       "      <td>They are some really bad consequences when stu...</td>\n",
       "      <td>Position</td>\n",
       "    </tr>\n",
       "    <tr>\n",
       "      <th>2</th>\n",
       "      <td>Some certain areas in the United States ban ph...</td>\n",
       "      <td>Evidence</td>\n",
       "    </tr>\n",
       "    <tr>\n",
       "      <th>3</th>\n",
       "      <td>When people have phones, they know about certa...</td>\n",
       "      <td>Evidence</td>\n",
       "    </tr>\n",
       "    <tr>\n",
       "      <th>4</th>\n",
       "      <td>Driving is one of the way how to get around. P...</td>\n",
       "      <td>Claim</td>\n",
       "    </tr>\n",
       "  </tbody>\n",
       "</table>\n",
       "</div>"
      ],
      "text/plain": [
       "                                                text cat_label\n",
       "0  Modern humans today are always on their phone....      Lead\n",
       "1  They are some really bad consequences when stu...  Position\n",
       "2  Some certain areas in the United States ban ph...  Evidence\n",
       "3  When people have phones, they know about certa...  Evidence\n",
       "4  Driving is one of the way how to get around. P...     Claim"
      ]
     },
     "execution_count": 11,
     "metadata": {},
     "output_type": "execute_result"
    }
   ],
   "source": [
    "file = \"../data/feedback_prize/feedback_prize_input.csv\"\n",
    "\n",
    "df = pd.read_csv(file)\n",
    "df.head()"
   ]
  },
  {
   "cell_type": "code",
   "execution_count": 12,
   "id": "bf9ad6a0-b44b-4a56-8116-82fcd4385d63",
   "metadata": {},
   "outputs": [
    {
     "data": {
      "text/plain": [
       "<AxesSubplot: xlabel='cat_label'>"
      ]
     },
     "execution_count": 12,
     "metadata": {},
     "output_type": "execute_result"
    },
    {
     "data": {
      "image/png": "[encoded data removed]",
      "text/plain": [
       "<Figure size 640x480 with 1 Axes>"
      ]
     },
     "metadata": {},
     "output_type": "display_data"
    }
   ],
   "source": [
    "count = df.groupby(by='cat_label').count().reset_index().rename(columns={'text':'count'})\n",
    "count.plot(x='cat_label', y='count', kind='bar')"
   ]
  },
  {
   "cell_type": "markdown",
   "id": "93b3be28-3bbf-43d3-a8d7-0cd29157f03f",
   "metadata": {},
   "source": [
    "The different files seem to contain the same data, we will though be using `feedack_prize_input.csv` as it has a more forward representation of the data [text, label]. "
   ]
  }
 ],
 "metadata": {
  "kernelspec": {
   "display_name": "ml4ed_venv",
   "language": "python",
   "name": "ml4ed_venv"
  },
  "language_info": {
   "codemirror_mode": {
    "name": "ipython",
    "version": 3
   },
   "file_extension": ".py",
   "mimetype": "text/x-python",
   "name": "python",
   "nbconvert_exporter": "python",
   "pygments_lexer": "ipython3",
   "version": "3.10.6"
  }
 },
 "nbformat": 4,
 "nbformat_minor": 5
}
