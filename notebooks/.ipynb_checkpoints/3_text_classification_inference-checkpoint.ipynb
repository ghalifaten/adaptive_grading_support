{
 "cells": [
  {
   "cell_type": "markdown",
   "id": "e80192a6-1d80-48ad-94ca-d404b370954f",
   "metadata": {},
   "source": [
    "# Inference"
   ]
  },
  {
   "cell_type": "code",
   "execution_count": null,
   "id": "24ec66a1-7ad2-49ed-9424-0fc5cd3aa2b2",
   "metadata": {},
   "outputs": [],
   "source": [
    "sentences = ['Modern humans today are always on their phone.',\n",
    "        'They are always on their phone more than 5 hours a day no stop.',\n",
    "        'All they do is text back and forward and just have group Chats on social media.',\n",
    "        'They even do it while driving.',\n",
    "        'They are some really bad consequences when stuff happens when it comes to a phone.']"
   ]
  },
  {
   "cell_type": "markdown",
   "id": "ef3a49ff-a448-4c69-80ef-633f0a1264fa",
   "metadata": {},
   "source": [
    "**Through a pipeline**"
   ]
  },
  {
   "cell_type": "code",
   "execution_count": null,
   "id": "3ae2a4ee-393d-4208-bd2b-037480bc06d5",
   "metadata": {},
   "outputs": [],
   "source": [
    "from transformers import pipeline\n",
    "\n",
    "classifier = pipeline(\"sentiment-analysis\", model=\"fatenghali/text_classification_model\")"
   ]
  },
  {
   "cell_type": "code",
   "execution_count": null,
   "id": "ebb5f20d-3fd7-463b-aca7-77b93fa272bf",
   "metadata": {},
   "outputs": [],
   "source": [
    "results = classifier(sentences)"
   ]
  },
  {
   "cell_type": "code",
   "execution_count": null,
   "id": "b9e71a35-2a0c-4044-b5ea-43c9a5524541",
   "metadata": {},
   "outputs": [],
   "source": [
    "for d, s in zip(results, sentences):\n",
    "    d['sentence'] = s\n",
    "    print(d)\n",
    "    print"
   ]
  },
  {
   "cell_type": "markdown",
   "id": "281f6c8f-3a15-49d7-86fc-26f8134e6d1c",
   "metadata": {},
   "source": [
    "**Manually**"
   ]
  },
  {
   "cell_type": "code",
   "execution_count": null,
   "id": "c7b5b5c9-419f-4dc5-b839-aba7e3c60f62",
   "metadata": {},
   "outputs": [],
   "source": [
    "from transformers import AutoTokenizer\n",
    "\n",
    "tokenizer = AutoTokenizer.from_pretrained(\"fatenghali/text_classification_model\")\n",
    "inputs = []\n",
    "#inputs = tokenizer(sent, return_tensors=\"pt\")\n",
    "for sent in sentences:\n",
    "    inputs.append(tokenizer(sent, return_tensors=\"pt\"))"
   ]
  },
  {
   "cell_type": "code",
   "execution_count": null,
   "id": "ee8aa670-a87a-4b04-8011-8201737b9189",
   "metadata": {},
   "outputs": [],
   "source": [
    "inputs"
   ]
  },
  {
   "cell_type": "code",
   "execution_count": null,
   "id": "4afa1f68-649d-4064-8cfa-1a322377d4b2",
   "metadata": {},
   "outputs": [],
   "source": [
    "from transformers import AutoModelForSequenceClassification\n",
    "import torch\n",
    "\n",
    "model = AutoModelForSequenceClassification.from_pretrained(\"fatenghali/text_classification_model\")\n",
    "with torch.no_grad():\n",
    "    #logits = model(**inputs).logits #for 1 sentence\n",
    "    logits = []\n",
    "    for input_ in inputs:\n",
    "        logits.append(model(**input_).logits)"
   ]
  },
  {
   "cell_type": "code",
   "execution_count": null,
   "id": "4b539f45-d3f0-4c90-8c5c-04bb0a111dc8",
   "metadata": {},
   "outputs": [],
   "source": [
    "#predicted_class_id = logits.argmax().item()\n",
    "predicted_class_ids = list(map(lambda x: x.argmax().item(), logits))"
   ]
  },
  {
   "cell_type": "code",
   "execution_count": null,
   "id": "ce147280-7800-49a8-9d1d-86ab4a5c0680",
   "metadata": {},
   "outputs": [],
   "source": [
    "#model.config.id2label[predicted_class_id]\n",
    "for _ in predicted_class_ids:\n",
    "    print(model.config.id2label[_])"
   ]
  },
  {
   "cell_type": "markdown",
   "id": "0dab9ed4-c8b8-42a9-b209-217c742d9538",
   "metadata": {},
   "source": [
    "**=>** Both methods (through a pipeline and manually) seem to give the same output. But, we still prefer the one through a pipeline for simplicity of code."
   ]
  }
 ],
 "metadata": {
  "kernelspec": {
   "display_name": "ml4ed_venv",
   "language": "python",
   "name": "ml4ed_venv"
  },
  "language_info": {
   "codemirror_mode": {
    "name": "ipython",
    "version": 3
   },
   "file_extension": ".py",
   "mimetype": "text/x-python",
   "name": "python",
   "nbconvert_exporter": "python",
   "pygments_lexer": "ipython3",
   "version": "3.10.6"
  }
 },
 "nbformat": 4,
 "nbformat_minor": 5
}
