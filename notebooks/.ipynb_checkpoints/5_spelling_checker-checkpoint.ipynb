{
 "cells": [
  {
   "cell_type": "markdown",
   "id": "249ae3f9-726e-4205-bab5-2a22a8541258",
   "metadata": {},
   "source": [
    ">In this Notebook, we are trying three different spelling correctors on a large text inorder to choose the most accurate: 1. corrects all spelling errors, 2. runs on a list of sentences and 3. with best runtime (if possible)."
   ]
  },
  {
   "cell_type": "code",
   "execution_count": 1,
   "id": "7809dcc1-9029-4ed1-a927-fcf444064dc4",
   "metadata": {},
   "outputs": [],
   "source": [
    "text = \"Malaria is a infectious disease caused by parasites that are transmitted to peoples throu female Anopheles mosquitoes. Each year over half a billion\\\n",
    " people will become infected with malaria, with rughly 80% of them living in Sub-Saharan africa. Nearly half a million people die of malaria every year, most of them young children\\\n",
    " under the age of five. Unlike many other infectious diseases, the death toll for malaria is rising. Wile there have been many programs designed to improove acces to malaria treatment, the best way to reducing the impact of malaria in Sub-Saharan Africa is to focus on reducing the number of people who contract the diseese in the first place rather than waiting to treat\\\n",
    " the disease after the person has already infected. There are multiple drogs available to treet malaria, and many of them work well and save lives, but malaria eradication programs that \\\n",
    " focus too much on them and not enough on prevention haven't seen long-term success in Sub-Saharan Africa. A major program to combat malaria was WHO's global malaria eradication \\\n",
    " programme. Started in 1955, it had a goal of eliminating malaria in africa within the next ten years. Based upon previously succesful programs in Brezil and the United State, \\\n",
    " the program focused mainly on vector controle. This included widely distributing chloroquine and spraying large amounts of DDT. More than one billions dollar was spent trying to \\\n",
    " abolish Malaria. However, the program suffered from many problems and in 1969, WHO was forced to admit that the program had not succeeded in eradicating Malaria. The number of people\\\n",
    " in Sub-Saharan Africa who contracted malaria as well as the number of malaria deaths had actually increased over 10% during the time the program was active. One of the major reasons for the failure of the project was that it set uniform strategies and policies. By failing to consider variations between governments, geography, and \\\n",
    "infrastructure, the program was not nearly as succesfull as it could have been. Sub-Saharan Africa has neither the money nor the infrastructure too support such an elaborate program, \\\n",
    "and it couldn't be run the way it was ment to. Most African countries don't have the resources to send all their people to doctors and get shots, nor can they afford to clear wetlands\\\n",
    " or other malaria prone areas. the continent's spending per person for eradicating malaria was just a quarter of what Brezil spent. Sub-Saharan Africa simply can't rely on a plan that \\\n",
    " requires more money, infrastructure, and expertise than they have to spare. \\\n",
    " Additionally, the widespread use of chloroquine has created drug resistant parasites which are now plaguing Sub-Saharan Africa. Because cloroquine was used widely but inconsistently, \\\n",
    " mosquitoes developed resistance, and chloroquine is now nearly completely ineffective in Sub-Saharan Africa, with over 95% of mosquitoes resistant to it. As a result, newer, more \\\n",
    " expensive drugs need to be used to prevent and treat malaria, which further drives up the coast of malaria treatment for a region that can ill afford it. Instead of developing plans to treat malaria after the infection has incurred, programs should focus on preventing infection from occurring in the first place. Not only is this plan \\\n",
    "cheaper and more effective, reducing the number of people who contract malaria also reduces loss of work/school days wich can further bring down the productivity of the region. One of the cheapest and most effective ways of preventing malaria is to implement insecticide-treated bed nets (ITNs). These nets provide a protective barrier around the person or \\\n",
    "people using them. While untreated bed nets are still helpful, those treated with insecticides are much more useful because they stop mosquitoes from biting people through the nets, \\\n",
    "and they help reduce mosquito populations in a community, thus helping people who don't even own bed nets. Bed nets are also very effective because most mosquito bites occur while \\\n",
    "the person is sleeping, so bed nets would be able to drastically reduce the number of transmissions during the night. In fact, transmission of malaria can be reduced by as much as 90% \\\n",
    "in areas where the use of ITNs is widespread. Because money is so scarce in Sub-Saharan Africa, the low cost is a great benefit and a major reason why the program is so successful. \\\n",
    "Bed nets cost roughly 2 USD to make, last several years, and can protect too adults. Studies have shown that, for every 100-1000 more nets are being used, one less child dies of malaria. \\\n",
    "With an estimated 300 million people in Africa not being protected by mosquito nets, there's the potential to save three millions lives by spending just a few dollars per person. \\\n",
    "Reducing the number of people who contract malaria would also reduce poverty levels in Africa significantly, thus improving other aspects of society like education levels and the economy. \\\n",
    "Vector control is more effective than treatment strategies because it mean fewer people are getting sick. When fewer people get sick, the working population is stronger as a whole \\\n",
    " because people are not put out of work from malaria, nor are they caring for sick relatives. Malaria-afflicted families can typically only harvest 40% of the crops that healthy families \\\n",
    " can harvest. Additionally, a family with members who have malaria spends roughly a quarter of its income treatment, not including the loss of work they also must deal with due to the \\\n",
    " illness. It's estimated that malaria costs Africa 12 billions USD in lost income every year. A strong working population creates a stronger economy, wich Sub-Saharan Africa is in \\\n",
    " desperate need of? The question is how to do that. How to apply it to reality.\""
   ]
  },
  {
   "cell_type": "code",
   "execution_count": 2,
   "id": "59ed4afd-4a75-4aa9-bca7-62cf33108b9b",
   "metadata": {},
   "outputs": [
    {
     "data": {
      "text/plain": [
       "41"
      ]
     },
     "execution_count": 2,
     "metadata": {},
     "output_type": "execute_result"
    }
   ],
   "source": [
    "batches = text.split('. ')\n",
    "len(batches)"
   ]
  },
  {
   "cell_type": "markdown",
   "id": "8ad9bbc5-3c14-48ac-88b8-31dfd9614853",
   "metadata": {},
   "source": [
    "# Neuspell"
   ]
  },
  {
   "cell_type": "code",
   "execution_count": 3,
   "id": "8834b249-0f00-4462-aec2-f3cf69334d41",
   "metadata": {},
   "outputs": [
    {
     "name": "stdout",
     "output_type": "stream",
     "text": [
      "data folder is set to `/home/fatenghali/ml4ed/neuspell/neuspell/../data` script\n"
     ]
    }
   ],
   "source": [
    "import neuspell\n",
    "from neuspell import BertChecker"
   ]
  },
  {
   "cell_type": "code",
   "execution_count": 4,
   "id": "cc9070e8-1ea8-4ef7-a9bf-d2cb42a26188",
   "metadata": {},
   "outputs": [
    {
     "name": "stdout",
     "output_type": "stream",
     "text": [
      "\n",
      "Loading spelling checker...\n",
      "\n",
      "loading vocab from path:/home/fatenghali/ml4ed/neuspell/neuspell/../data/checkpoints/subwordbert-probwordnoise/vocab.pkl\n",
      "initializing model\n"
     ]
    },
    {
     "name": "stderr",
     "output_type": "stream",
     "text": [
      "Some weights of the model checkpoint at bert-base-cased were not used when initializing BertModel: ['cls.predictions.transform.dense.bias', 'cls.predictions.transform.LayerNorm.bias', 'cls.predictions.transform.LayerNorm.weight', 'cls.seq_relationship.bias', 'cls.seq_relationship.weight', 'cls.predictions.decoder.weight', 'cls.predictions.transform.dense.weight', 'cls.predictions.bias']\n",
      "- This IS expected if you are initializing BertModel from the checkpoint of a model trained on another task or with another architecture (e.g. initializing a BertForSequenceClassification model from a BertForPreTraining model).\n",
      "- This IS NOT expected if you are initializing BertModel from the checkpoint of a model that you expect to be exactly identical (initializing a BertForSequenceClassification model from a BertForSequenceClassification model).\n"
     ]
    },
    {
     "name": "stdout",
     "output_type": "stream",
     "text": [
      "Number of parameters in the model: 185211810\n",
      "Loading model params from checkpoint dir: /home/fatenghali/ml4ed/neuspell/neuspell/../data/checkpoints/subwordbert-probwordnoise\n"
     ]
    }
   ],
   "source": [
    "# Initialize spelling check model\n",
    "print('\\nLoading spelling checker...\\n')\n",
    "checker = BertChecker()\n",
    "checker.from_pretrained(\"./neuspell-subwordbert-probwordnoise/\")"
   ]
  },
  {
   "cell_type": "code",
   "execution_count": 5,
   "id": "8d4e8f59-721e-4cfd-96e9-1d251f144c9e",
   "metadata": {},
   "outputs": [
    {
     "name": "stdout",
     "output_type": "stream",
     "text": [
      "3.0736958980560303\n"
     ]
    }
   ],
   "source": [
    "import time\n",
    "start = time.time()\n",
    "corrected_batches = checker.correct_strings(batches)\n",
    "print(time.time() - start)"
   ]
  },
  {
   "cell_type": "code",
   "execution_count": 6,
   "id": "afad037f-cc5b-4c18-889d-c69234cf2c68",
   "metadata": {},
   "outputs": [],
   "source": [
    "\"\"\"\n",
    "Neuspell inserts ' ' between words and special characters (such as punctuation) so here we are manually removing the additional spaces for\n",
    "a more accurate comparison with the original text.\n",
    "\"\"\"\n",
    "for i in range(len(corrected_batches)):\n",
    "    sentence = corrected_batches[i]\n",
    "    sentence = sentence.replace(' , ', ', ')\\\n",
    "                        .replace(' - ', '-')\\\n",
    "                        .replace(\" ' \", \"'\")\\\n",
    "                        .replace(' ! ', '! ')\\\n",
    "                        .replace(' ? ', '? ')\\\n",
    "                        .replace(' % ', '% ')\\\n",
    "                        .replace(' @ ', '@ ')\\\n",
    "                        .replace(' ( ', ' (')\\\n",
    "                        .replace(' ) ', ') ')\\\n",
    "                        .replace(' .', '')\n",
    "    corrected_batches[i] = sentence"
   ]
  },
  {
   "cell_type": "code",
   "execution_count": 7,
   "id": "cbef13d7-f285-4194-bec5-b5deafa3dde1",
   "metadata": {},
   "outputs": [],
   "source": [
    "import math\n",
    "def uncommonWords(text, correct):\n",
    "    count = {}\n",
    "    # insert words of string A to hash\n",
    "    for word in text.split():\n",
    "        count[word] = count.get(word, 0) + 1\n",
    "\n",
    "    # insert words of string B to hash\n",
    "    for word in correct.split():\n",
    "        count[word] = count.get(word, 0) - math.inf\n",
    "\n",
    "    # return required list of words\n",
    "    return [word for word in count if count[word] > 0 ]"
   ]
  },
  {
   "cell_type": "code",
   "execution_count": 33,
   "id": "1793f66b-8524-48ea-b34c-5b11ef8e7f62",
   "metadata": {},
   "outputs": [
    {
     "data": {
      "text/plain": [
       "['Malaria is a infectious disease caused by parasites that are transmitted to peoples through female Anopheles mosquitoes',\n",
       " 'Each year over half a billion people will become infected with malaria, with roughly 80% of them living in Sub-Saharan Africa',\n",
       " 'Nearly half a million people die of malaria every year, most of them young children under the age of five',\n",
       " 'Unlike many other infectious diseases, the death toll for malaria is rising',\n",
       " 'While there have been many programs designed to improve access to malaria treatment, the best way to reducing the impact of malaria in Sub-Saharan Africa is to focus on reducing the number of people who contract the disease in the first place rather than waiting to treat the disease after the person has already infected',\n",
       " \"There are multiple drugs available to treat malaria, and many of them work well and save lives, but malaria eradication programs that focus too much on them and not enough on prevention haven't seen long-term success in Sub-Saharan Africa\",\n",
       " \"A major program to combat malaria was WHO's global malaria eradication programme\",\n",
       " 'Started in 1955, it had a goal of eliminating malaria in Africa within the next ten years',\n",
       " 'Based upon previously successful programs in Brazil and the United States, the program focused mainly on vector control',\n",
       " 'This included widely distributing chloroquine and spraying large amounts of DDT',\n",
       " 'More than one billion dollars was spent trying to abolish Malaria',\n",
       " 'However, the program suffered from many problems and in 1969, WHO was forced to admit that the program had not succeeded in eradicating Malaria',\n",
       " 'The number of people in Sub-Saharan Africa who contracted malaria as well as the number of malaria deaths had actually increased over 10% during the time the program was active',\n",
       " 'One of the major reasons for the failure of the project was that it set uniform strategies and policies',\n",
       " 'By failing to consider variations between governments, geography, and infrastructure, the program was not nearly as successful as it could have been',\n",
       " \"Sub-Saharan Africa has neither the money nor the infrastructure to support such an elaborate program, and it couldn't be run the way it was meant to\",\n",
       " \"Most African countries don't have the resources to send all their people to doctors and get shots, nor can they afford to clear wetlands or other malaria prone areas\",\n",
       " \"the continent's spending per person for eradicating malaria was just a quarter of what Brazil spent\",\n",
       " \"Sub-Saharan Africa simply can't rely on a plan that requires more money, infrastructure, and expertise than they have to spare\",\n",
       " 'Additionally, the widespread use of chloroquine has created drug resistant parasites which are now plaguing Sub-Saharan Africa',\n",
       " 'Because cloroquine was used widely but inconsistently, mosquitoes developed resistance, and chloroquine is now nearly completely ineffective in Sub-Saharan Africa, with over 95% of mosquitoes resistant to it',\n",
       " 'As a result, newer, more expensive drugs need to be used to prevent and treat malaria, which further drives up the cost of malaria treatment for a region that can ill afford it',\n",
       " 'Instead of developing plans to treat malaria after the infection has incurred, programs should focus on preventing infection from occurring in the first place',\n",
       " 'Not only is this plan cheaper and more effective, reducing the number of people who contract malaria also reduces loss of work / school days which can further bring down the productivity of the region',\n",
       " 'One of the cheapest and most effective ways of preventing malaria is to implement insecticide-treated bed nets (ITNs )',\n",
       " 'These nets provide a protective barrier around the person or people using them',\n",
       " \"While untreated bed nets are still helpful, those treated with insecticides are much more useful because they stop mosquitoes from biting people through the nets, and they help reduce mosquito populations in a community, thus helping people who don't even own bed nets\",\n",
       " 'Bed nets are also very effective because most mosquito bites occur while the person is sleeping, so bed nets would be able to drastically reduce the number of transmissions during the night',\n",
       " 'In fact, transmission of malaria can be reduced by as much as 90% in areas where the use of ITNs is widespread',\n",
       " 'Because money is so scarce in Sub-Saharan Africa, the low cost is a great benefit and a major reason why the program is so successful',\n",
       " 'Bed nets cost roughly 2 USD to make, last several years, and can protect two adults',\n",
       " 'Studies have shown that, for every 100-1000 more nets are being used, one less child dies of malaria',\n",
       " \"With an estimated 300 million people in Africa not being protected by mosquito nets, there's the potential to save three million lives by spending just a few dollars per person\",\n",
       " 'Reducing the number of people who contract malaria would also reduce poverty levels in Africa significantly, thus improving other aspects of society like education levels and the economy',\n",
       " 'Vector control is more effective than treatment strategies because it means fewer people are getting sick',\n",
       " 'When fewer people get sick, the working population is stronger as a whole because people are not put out of work from malaria, nor are they caring for sick relatives',\n",
       " 'Malaria-afflicted families can typically only harvest 40% of the crops that healthy families can harvest',\n",
       " 'Additionally, a family with members who have malaria spends roughly a quarter of its income treatment, not including the loss of work they also must deal with due to the illness',\n",
       " \"It's estimated that malaria costs Africa 12 billions USD in lost income every year\",\n",
       " 'A strong working population creates a stronger economy, which Sub-Saharan Africa is in desperate need of? The question is how to do that',\n",
       " 'How to apply it to reality']"
      ]
     },
     "execution_count": 33,
     "metadata": {},
     "output_type": "execute_result"
    }
   ],
   "source": [
    "corrected_batches"
   ]
  },
  {
   "cell_type": "code",
   "execution_count": 34,
   "id": "c3c38c7c-9d9c-4652-ae4e-abab3c0687be",
   "metadata": {},
   "outputs": [
    {
     "name": "stdout",
     "output_type": "stream",
     "text": [
      "Malaria is a infectious disease caused by parasites that are transmitted to peoples <span style=\"color: red\">throu</span> female Anopheles mosquitoes. Each year over half a billion people will become infected with malaria, with <span style=\"color: red\">rughly</span> 80% of them living in Sub-Saharan <span style=\"color: red\">africa</span>. Nearly half a million people die of malaria every year, most of them young children under the age of five. Unlike many other infectious diseases, the death toll for malaria is rising. <span style=\"color: red\">Wile</span> there have been many programs designed to <span style=\"color: red\">improove</span> <span style=\"color: red\">acces</span> to malaria treatment, the best way to reducing the impact of malaria in Sub-Saharan Africa is to focus on reducing the number of people who contract the <span style=\"color: red\">diseese</span> in the first place rather than waiting to treat the disease after the person has already infected. There are multiple <span style=\"color: red\">drogs</span> available to <span style=\"color: red\">treet</span> malaria, and many of them work well and save lives, but malaria eradication programs that  focus too much on them and not enough on prevention haven't seen long-term success in Sub-Saharan Africa. A major program to combat malaria was WHO's global malaria eradication  programme. Started in 1955, it had a goal of eliminating malaria in <span style=\"color: red\">africa</span> within the next ten years. Based upon previously <span style=\"color: red\">succesful</span> programs in <span style=\"color: red\">Brezil</span> and the United <span style=\"color: red\">State,</span>  the program focused mainly on vector <span style=\"color: red\">controle</span>. This included widely distributing chloroquine and spraying large amounts of DDT. More than one <span style=\"color: red\">billions</span> <span style=\"color: red\">dollar</span> was spent trying to  abolish Malaria. However, the program suffered from many problems and in 1969, WHO was forced to admit that the program had not succeeded in eradicating Malaria. The number of people in Sub-Saharan Africa who contracted malaria as well as the number of malaria deaths had actually increased over 10% during the time the program was active. One of the major reasons for the failure of the project was that it set uniform strategies and policies. By failing to consider variations between governments, geography, and infrastructure, the program was not nearly as <span style=\"color: red\">succesfull</span> as it could have been. Sub-Saharan Africa has neither the money nor the infrastructure <span style=\"color: red\">too</span> support such an elaborate program, and it couldn't be run the way it was <span style=\"color: red\">ment</span> to. Most African countries don't have the resources to send all their people to doctors and get shots, nor can they afford to clear wetlands or other malaria prone areas. the continent's spending per person for eradicating malaria was just a quarter of what <span style=\"color: red\">Brezil</span> spent. Sub-Saharan Africa simply can't rely on a plan that  requires more money, infrastructure, and expertise than they have to spare.  Additionally, the widespread use of chloroquine has created drug resistant parasites which are now plaguing Sub-Saharan Africa. Because cloroquine was used widely but inconsistently,  mosquitoes developed resistance, and chloroquine is now nearly completely ineffective in Sub-Saharan Africa, with over 95% of mosquitoes resistant to it. As a result, newer, more  expensive drugs need to be used to prevent and treat malaria, which further drives up the <span style=\"color: red\">coast</span> of malaria treatment for a region that can ill afford it. Instead of developing plans to treat malaria after the infection has incurred, programs should focus on preventing infection from occurring in the first place. Not only is this plan cheaper and more effective, reducing the number of people who contract malaria also reduces loss of <span style=\"color: red\">work/school</span> days <span style=\"color: red\">wich</span> can further bring down the productivity of the region. One of the cheapest and most effective ways of preventing malaria is to implement insecticide-treated bed nets <span style=\"color: red\">(ITNs)</span>. These nets provide a protective barrier around the person or people using them. While untreated bed nets are still helpful, those treated with insecticides are much more useful because they stop mosquitoes from biting people through the nets, and they help reduce mosquito populations in a community, thus helping people who don't even own bed nets. Bed nets are also very effective because most mosquito bites occur while the person is sleeping, so bed nets would be able to drastically reduce the number of transmissions during the night. In fact, transmission of malaria can be reduced by as much as 90% in areas where the use of ITNs is widespread. Because money is so scarce in Sub-Saharan Africa, the low cost is a great benefit and a major reason why the program is so successful. Bed nets cost roughly 2 USD to make, last several years, and can protect <span style=\"color: red\">too</span> adults. Studies have shown that, for every 100-1000 more nets are being used, one less child dies of malaria. With an estimated 300 million people in Africa not being protected by mosquito nets, there's the potential to save three <span style=\"color: red\">millions</span> lives by spending just a few dollars per person. Reducing the number of people who contract malaria would also reduce poverty levels in Africa significantly, thus improving other aspects of society like education levels and the economy. Vector control is more effective than treatment strategies because it <span style=\"color: red\">mean</span> fewer people are getting sick. When fewer people get sick, the working population is stronger as a whole  because people are not put out of work from malaria, nor are they caring for sick relatives. Malaria-afflicted families can typically only harvest 40% of the crops that healthy families  can harvest. Additionally, a family with members who have malaria spends roughly a quarter of its income treatment, not including the loss of work they also must deal with due to the  illness. It's estimated that malaria costs Africa 12 billions USD in lost income every year. A strong working population creates a stronger economy, <span style=\"color: red\">wich</span> Sub-Saharan Africa is in  desperate need of? The question is how to do that. How to apply it to <span style=\"color: red\">reality.</span>. \n"
     ]
    }
   ],
   "source": [
    "highlighted_text = ''\n",
    "for (orig, corr) in zip(batches, corrected_batches):\n",
    "    mistakes = uncommonWords(orig, corr)\n",
    "    for m in mistakes:\n",
    "        orig = orig.replace(m, '<span style=\"color: red\">'+m+'</span>')\n",
    "    highlighted_text += orig + '. ' \n",
    "\n",
    "print(highlighted_text)"
   ]
  },
  {
   "cell_type": "markdown",
   "id": "f3efad4f-872d-4746-81aa-01baebe3f60a",
   "metadata": {},
   "source": [
    ">**Neuspell does not correct punctuation.**"
   ]
  },
  {
   "cell_type": "code",
   "execution_count": 8,
   "id": "5275f28b-4ae5-4bc3-bb22-3ac1bdb0d129",
   "metadata": {},
   "outputs": [],
   "source": [
    "file1 = open('neuspell_batches.txt', 'a')\n",
    "# Writing a string to file\n",
    "for sentence in corrected_batches:\n",
    "    sentence = sentence.replace(' , ', ', ')\\\n",
    "                        .replace(' - ', '-')\\\n",
    "                        .replace(\" ' \", \"'\")\\\n",
    "                        .replace(' ! ', '! ')\\\n",
    "                        .replace(' ? ', '? ')\\\n",
    "                        .replace(' % ', '% ')\\\n",
    "                        .replace(' @ ', '@ ')\\\n",
    "                        .replace(' ( ', ' (')\\\n",
    "                        .replace(' ) ', ') ')\\\n",
    "                        .replace(' .', '')\n",
    "    file1.write(sentence + '. ')\n",
    "# Closing file\n",
    "file1.close()"
   ]
  },
  {
   "cell_type": "markdown",
   "id": "273eaa1b-cfe9-457b-bc7c-63b248e7fa90",
   "metadata": {},
   "source": [
    "# Hugging face pretrained models"
   ]
  },
  {
   "cell_type": "markdown",
   "id": "ca8c1a4c-955b-451d-8615-591134e8cfd6",
   "metadata": {},
   "source": [
    "**1**"
   ]
  },
  {
   "cell_type": "code",
   "execution_count": 9,
   "id": "714719be-28dc-48ab-a1fd-d2f27f6bc35f",
   "metadata": {},
   "outputs": [],
   "source": [
    "from transformers import pipeline\n",
    "\n",
    "fix_spelling = pipeline(\"text2text-generation\",model=\"oliverguhr/spelling-correction-english-base\")"
   ]
  },
  {
   "cell_type": "code",
   "execution_count": 10,
   "id": "b7466148-99be-4a9a-9329-a86ea5e5c72c",
   "metadata": {},
   "outputs": [
    {
     "name": "stdout",
     "output_type": "stream",
     "text": [
      "43.29895043373108\n"
     ]
    }
   ],
   "source": [
    "import time\n",
    "start = time.time()\n",
    "correct = fix_spelling(batches, max_length=2048)\n",
    "print(time.time() - start)"
   ]
  },
  {
   "cell_type": "code",
   "execution_count": 11,
   "id": "145d7fb3-3fd4-4fac-96b1-dfa7297756e9",
   "metadata": {},
   "outputs": [
    {
     "data": {
      "text/plain": [
       "{'generated_text': 'Malaria is an infectious disease caused by parasites that are transmitted to peoples through female Anopheles mosquitoes.'}"
      ]
     },
     "execution_count": 11,
     "metadata": {},
     "output_type": "execute_result"
    }
   ],
   "source": [
    "correct[0]"
   ]
  },
  {
   "cell_type": "code",
   "execution_count": 12,
   "id": "81bf0bac-70ad-4a9a-a5d7-4b70b0cb4264",
   "metadata": {},
   "outputs": [],
   "source": [
    "file2 = open('hf_1.txt', 'a')\n",
    "# Writing a string to file\n",
    "for sent in correct:\n",
    "    file2.write(sent['generated_text'])\n",
    "# Closing file\n",
    "file2.close()"
   ]
  },
  {
   "cell_type": "markdown",
   "id": "277dd7ab-b1dc-4aec-b471-2cfedc40989a",
   "metadata": {},
   "source": [
    ">This model is goos at correcting spelling and punctuation mistakes but takes too long to run."
   ]
  },
  {
   "cell_type": "markdown",
   "id": "24110c2e-18fc-47f6-8915-3ca25e4d562e",
   "metadata": {},
   "source": [
    "**2**"
   ]
  },
  {
   "cell_type": "code",
   "execution_count": 13,
   "id": "aeedb603-c460-42d8-9b05-5d66313c64c5",
   "metadata": {},
   "outputs": [],
   "source": [
    "from transformers import AutoTokenizer, AutoModelForSeq2SeqLM\n",
    "\n",
    "tokenizer = AutoTokenizer.from_pretrained(\"Bhuvana/t5-base-spellchecker\")\n",
    "\n",
    "model = AutoModelForSeq2SeqLM.from_pretrained(\"Bhuvana/t5-base-spellchecker\")\n",
    "\n",
    "\n",
    "def correct(inputs):\n",
    "    input_ids = tokenizer.encode(inputs,return_tensors='pt')\n",
    "    sample_output = model.generate(\n",
    "        input_ids,\n",
    "        do_sample=True,\n",
    "        max_length=50,\n",
    "        top_p=0.99,\n",
    "        num_return_sequences=1\n",
    "    )\n",
    "    res = tokenizer.decode(sample_output[0], skip_special_tokens=True)\n",
    "    return res\n"
   ]
  },
  {
   "cell_type": "code",
   "execution_count": 14,
   "id": "6a4de4d9-bf4f-4e2c-94e7-ed285fd7e71f",
   "metadata": {},
   "outputs": [
    {
     "name": "stdout",
     "output_type": "stream",
     "text": [
      "47.51789426803589\n"
     ]
    }
   ],
   "source": [
    "import time\n",
    "start = time.time()\n",
    "corrected = []\n",
    "for sentence in batches:\n",
    "    corrected.append(correct(sentence))\n",
    "print(time.time() - start)"
   ]
  },
  {
   "cell_type": "code",
   "execution_count": 18,
   "id": "3a7c507d-6b60-46e5-9707-7951b5cbb817",
   "metadata": {},
   "outputs": [],
   "source": [
    "file3 = open('hf_2.txt', 'a')\n",
    "# Writing a string to file\n",
    "for sent in corrected:\n",
    "    file3.write(sent)\n",
    "# Closing file\n",
    "file3.close()"
   ]
  },
  {
   "cell_type": "markdown",
   "id": "70ede66d-6d3e-4c71-aaab-a65b25f4a280",
   "metadata": {},
   "source": [
    ">Takes too long to run and loses punctuation."
   ]
  },
  {
   "cell_type": "markdown",
   "id": "03c2171a-940d-4323-8541-6d02d7679f7b",
   "metadata": {},
   "source": [
    "**==> We stick with Neuspell**"
   ]
  }
 ],
 "metadata": {
  "kernelspec": {
   "display_name": "ml4ed_venv",
   "language": "python",
   "name": "ml4ed_venv"
  },
  "language_info": {
   "codemirror_mode": {
    "name": "ipython",
    "version": 3
   },
   "file_extension": ".py",
   "mimetype": "text/x-python",
   "name": "python",
   "nbconvert_exporter": "python",
   "pygments_lexer": "ipython3",
   "version": "3.10.6"
  }
 },
 "nbformat": 4,
 "nbformat_minor": 5
}
