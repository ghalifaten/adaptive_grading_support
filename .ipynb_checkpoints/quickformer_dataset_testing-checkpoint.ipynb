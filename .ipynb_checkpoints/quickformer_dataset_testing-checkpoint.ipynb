{
 "cells": [
  {
   "cell_type": "code",
   "execution_count": 1,
   "id": "9d32e28a-3b43-4c3d-847d-8ea954235b10",
   "metadata": {},
   "outputs": [],
   "source": [
    "import pandas as pd"
   ]
  },
  {
   "cell_type": "raw",
   "id": "36377367-85e3-4850-aae5-a9f3a068a36f",
   "metadata": {},
   "source": [
    "Import data"
   ]
  },
  {
   "cell_type": "code",
   "execution_count": 7,
   "id": "dc21fe12-e26b-4a4c-98bc-43c9b56367c0",
   "metadata": {},
   "outputs": [
    {
     "data": {
      "text/html": [
       "<div>\n",
       "<style scoped>\n",
       "    .dataframe tbody tr th:only-of-type {\n",
       "        vertical-align: middle;\n",
       "    }\n",
       "\n",
       "    .dataframe tbody tr th {\n",
       "        vertical-align: top;\n",
       "    }\n",
       "\n",
       "    .dataframe thead th {\n",
       "        text-align: right;\n",
       "    }\n",
       "</style>\n",
       "<table border=\"1\" class=\"dataframe\">\n",
       "  <thead>\n",
       "    <tr style=\"text-align: right;\">\n",
       "      <th></th>\n",
       "      <th>text</th>\n",
       "      <th>tp_Claim</th>\n",
       "      <th>tp_Concluding Statement</th>\n",
       "      <th>tp_Counterclaim</th>\n",
       "      <th>tp_Evidence</th>\n",
       "      <th>tp_Lead</th>\n",
       "      <th>tp_Position</th>\n",
       "      <th>tp_Rebuttal</th>\n",
       "      <th>type</th>\n",
       "    </tr>\n",
       "  </thead>\n",
       "  <tbody>\n",
       "    <tr>\n",
       "      <th>0</th>\n",
       "      <td>Modern humans today are always on their phone....</td>\n",
       "      <td>0</td>\n",
       "      <td>0</td>\n",
       "      <td>0</td>\n",
       "      <td>0</td>\n",
       "      <td>1</td>\n",
       "      <td>0</td>\n",
       "      <td>0</td>\n",
       "      <td>Lead</td>\n",
       "    </tr>\n",
       "    <tr>\n",
       "      <th>1</th>\n",
       "      <td>They are some really bad consequences when stu...</td>\n",
       "      <td>0</td>\n",
       "      <td>0</td>\n",
       "      <td>0</td>\n",
       "      <td>0</td>\n",
       "      <td>0</td>\n",
       "      <td>1</td>\n",
       "      <td>0</td>\n",
       "      <td>Position</td>\n",
       "    </tr>\n",
       "    <tr>\n",
       "      <th>2</th>\n",
       "      <td>Some certain areas in the United States ban ph...</td>\n",
       "      <td>0</td>\n",
       "      <td>0</td>\n",
       "      <td>0</td>\n",
       "      <td>1</td>\n",
       "      <td>0</td>\n",
       "      <td>0</td>\n",
       "      <td>0</td>\n",
       "      <td>Evidence</td>\n",
       "    </tr>\n",
       "    <tr>\n",
       "      <th>3</th>\n",
       "      <td>When people have phones, they know about certa...</td>\n",
       "      <td>0</td>\n",
       "      <td>0</td>\n",
       "      <td>0</td>\n",
       "      <td>1</td>\n",
       "      <td>0</td>\n",
       "      <td>0</td>\n",
       "      <td>0</td>\n",
       "      <td>Evidence</td>\n",
       "    </tr>\n",
       "    <tr>\n",
       "      <th>4</th>\n",
       "      <td>Driving is one of the way how to get around. P...</td>\n",
       "      <td>1</td>\n",
       "      <td>0</td>\n",
       "      <td>0</td>\n",
       "      <td>0</td>\n",
       "      <td>0</td>\n",
       "      <td>0</td>\n",
       "      <td>0</td>\n",
       "      <td>Claim</td>\n",
       "    </tr>\n",
       "  </tbody>\n",
       "</table>\n",
       "</div>"
      ],
      "text/plain": [
       "                                                text  tp_Claim  \\\n",
       "0  Modern humans today are always on their phone....         0   \n",
       "1  They are some really bad consequences when stu...         0   \n",
       "2  Some certain areas in the United States ban ph...         0   \n",
       "3  When people have phones, they know about certa...         0   \n",
       "4  Driving is one of the way how to get around. P...         1   \n",
       "\n",
       "   tp_Concluding Statement  tp_Counterclaim  tp_Evidence  tp_Lead  \\\n",
       "0                        0                0            0        1   \n",
       "1                        0                0            0        0   \n",
       "2                        0                0            1        0   \n",
       "3                        0                0            1        0   \n",
       "4                        0                0            0        0   \n",
       "\n",
       "   tp_Position  tp_Rebuttal      type  \n",
       "0            0            0      Lead  \n",
       "1            1            0  Position  \n",
       "2            0            0  Evidence  \n",
       "3            0            0  Evidence  \n",
       "4            0            0     Claim  "
      ]
     },
     "execution_count": 7,
     "metadata": {},
     "output_type": "execute_result"
    }
   ],
   "source": [
    "file = \"../data/feedback_prize_student_writing_dataset/text_and_labels.csv\"\n",
    "\n",
    "df = pd.read_csv(file)\n",
    "df.head()"
   ]
  },
  {
   "cell_type": "code",
   "execution_count": 8,
   "id": "cf04d840-000b-4978-b21f-b5fd62470677",
   "metadata": {},
   "outputs": [
    {
     "data": {
      "text/plain": [
       "144293"
      ]
     },
     "execution_count": 8,
     "metadata": {},
     "output_type": "execute_result"
    }
   ],
   "source": [
    "len(df)"
   ]
  },
  {
   "cell_type": "markdown",
   "id": "3ebbfa90-e52c-447f-bbc3-531f1e30fd3b",
   "metadata": {},
   "source": [
    "Testing if the dataset is enough to train an NLP Transformer classification model, using Seyed Parsa's QuickFormer"
   ]
  },
  {
   "cell_type": "code",
   "execution_count": 9,
   "id": "07e1df1e-467f-4321-b627-fb24b0f0e003",
   "metadata": {},
   "outputs": [],
   "source": [
    "\"\"\"\n",
    "1. Prepare your initial data in a CSV file with the columns `text` and `cat_label`. \n",
    "Name the file `model_name_input.csv` where `model_name` is an arbitrary name.\n",
    "\"\"\"\n",
    "df = df[['text','type']] #drop all columns except text and type\n",
    "df.rename(columns={\"type\":\"cat_label\"}, inplace=True) \n",
    "df.to_csv(\"../data/feedback_prize_input.csv\", index=False)"
   ]
  },
  {
   "cell_type": "code",
   "execution_count": 10,
   "id": "55f44c39-62e4-4b26-b116-4460bf50edc8",
   "metadata": {},
   "outputs": [
    {
     "data": {
      "text/html": [
       "<div>\n",
       "<style scoped>\n",
       "    .dataframe tbody tr th:only-of-type {\n",
       "        vertical-align: middle;\n",
       "    }\n",
       "\n",
       "    .dataframe tbody tr th {\n",
       "        vertical-align: top;\n",
       "    }\n",
       "\n",
       "    .dataframe thead th {\n",
       "        text-align: right;\n",
       "    }\n",
       "</style>\n",
       "<table border=\"1\" class=\"dataframe\">\n",
       "  <thead>\n",
       "    <tr style=\"text-align: right;\">\n",
       "      <th></th>\n",
       "      <th>text</th>\n",
       "      <th>cat_label</th>\n",
       "    </tr>\n",
       "  </thead>\n",
       "  <tbody>\n",
       "    <tr>\n",
       "      <th>0</th>\n",
       "      <td>Modern humans today are always on their phone....</td>\n",
       "      <td>Lead</td>\n",
       "    </tr>\n",
       "    <tr>\n",
       "      <th>1</th>\n",
       "      <td>They are some really bad consequences when stu...</td>\n",
       "      <td>Position</td>\n",
       "    </tr>\n",
       "    <tr>\n",
       "      <th>2</th>\n",
       "      <td>Some certain areas in the United States ban ph...</td>\n",
       "      <td>Evidence</td>\n",
       "    </tr>\n",
       "    <tr>\n",
       "      <th>3</th>\n",
       "      <td>When people have phones, they know about certa...</td>\n",
       "      <td>Evidence</td>\n",
       "    </tr>\n",
       "    <tr>\n",
       "      <th>4</th>\n",
       "      <td>Driving is one of the way how to get around. P...</td>\n",
       "      <td>Claim</td>\n",
       "    </tr>\n",
       "  </tbody>\n",
       "</table>\n",
       "</div>"
      ],
      "text/plain": [
       "                                                text cat_label\n",
       "0  Modern humans today are always on their phone....      Lead\n",
       "1  They are some really bad consequences when stu...  Position\n",
       "2  Some certain areas in the United States ban ph...  Evidence\n",
       "3  When people have phones, they know about certa...  Evidence\n",
       "4  Driving is one of the way how to get around. P...     Claim"
      ]
     },
     "execution_count": 10,
     "metadata": {},
     "output_type": "execute_result"
    }
   ],
   "source": [
    "pd.read_csv(\"../data/feedback_prize_input.csv\").head()"
   ]
  },
  {
   "cell_type": "code",
   "execution_count": 7,
   "id": "3db96982-1ad4-4d53-b30a-71f11a731c89",
   "metadata": {},
   "outputs": [
    {
     "name": "stdout",
     "output_type": "stream",
     "text": [
      "/home/faten/ml4ed/ml4ed_venv/bin/pip\n"
     ]
    }
   ],
   "source": [
    "!which pip"
   ]
  },
  {
   "cell_type": "code",
   "execution_count": 19,
   "id": "acc2a217-9d78-47ac-af81-2e0da1c030e5",
   "metadata": {},
   "outputs": [
    {
     "name": "stdout",
     "output_type": "stream",
     "text": [
      "Package            Version  \n",
      "------------------ ---------\n",
      "certifi            2022.9.24\n",
      "charset-normalizer 2.1.1    \n",
      "filelock           3.8.0    \n",
      "huggingface-hub    0.10.0   \n",
      "idna               3.4      \n",
      "numpy              1.23.3   \n",
      "packaging          21.3     \n",
      "pip                20.0.2   \n",
      "pkg-resources      0.0.0    \n",
      "pyparsing          3.0.9    \n",
      "PyYAML             6.0      \n",
      "regex              2022.9.13\n",
      "requests           2.28.1   \n",
      "setuptools         44.0.0   \n",
      "tokenizers         0.12.1   \n",
      "tqdm               4.64.1   \n",
      "typing-extensions  4.3.0    \n",
      "urllib3            1.26.12  \n"
     ]
    }
   ],
   "source": [
    "!pip3 list"
   ]
  },
  {
   "cell_type": "code",
   "execution_count": 17,
   "id": "03c0ad86-9d48-447e-82d0-32cce9eed2ae",
   "metadata": {},
   "outputs": [
    {
     "name": "stdout",
     "output_type": "stream",
     "text": [
      "Package            Version  \n",
      "------------------ ---------\n",
      "certifi            2022.9.24\n",
      "charset-normalizer 2.1.1    \n",
      "filelock           3.8.0    \n",
      "huggingface-hub    0.10.0   \n",
      "idna               3.4      \n",
      "numpy              1.23.3   \n",
      "packaging          21.3     \n",
      "pip                20.0.2   \n",
      "pkg-resources      0.0.0    \n",
      "pyparsing          3.0.9    \n",
      "PyYAML             6.0      \n",
      "regex              2022.9.13\n",
      "requests           2.28.1   \n",
      "setuptools         44.0.0   \n",
      "tokenizers         0.12.1   \n",
      "tqdm               4.64.1   \n",
      "typing-extensions  4.3.0    \n",
      "urllib3            1.26.12  \n"
     ]
    }
   ],
   "source": [
    "!python3 -m pip list"
   ]
  },
  {
   "cell_type": "code",
   "execution_count": 20,
   "id": "3f5f36cd-8f0f-4149-86b9-67deefa7241e",
   "metadata": {},
   "outputs": [],
   "source": [
    "import torch"
   ]
  },
  {
   "cell_type": "code",
   "execution_count": 21,
   "id": "79e21feb-46de-4596-b7e6-d82d7735fe33",
   "metadata": {},
   "outputs": [
    {
     "ename": "RuntimeError",
     "evalue": "At least one of TensorFlow 2.0 or PyTorch should be installed. To install TensorFlow 2.0, read the instructions at https://www.tensorflow.org/install/ To install PyTorch, read the instructions at https://pytorch.org/.",
     "output_type": "error",
     "traceback": [
      "\u001b[0;31m---------------------------------------------------------------------------\u001b[0m",
      "\u001b[0;31mRuntimeError\u001b[0m                              Traceback (most recent call last)",
      "\u001b[0;32m/tmp/ipykernel_128420/2898197429.py\u001b[0m in \u001b[0;36m<module>\u001b[0;34m\u001b[0m\n\u001b[1;32m      1\u001b[0m \u001b[0;32mfrom\u001b[0m \u001b[0mtransformers\u001b[0m \u001b[0;32mimport\u001b[0m \u001b[0mpipeline\u001b[0m\u001b[0;34m\u001b[0m\u001b[0;34m\u001b[0m\u001b[0m\n\u001b[1;32m      2\u001b[0m \u001b[0;34m\u001b[0m\u001b[0m\n\u001b[0;32m----> 3\u001b[0;31m \u001b[0munmasker\u001b[0m \u001b[0;34m=\u001b[0m \u001b[0mpipeline\u001b[0m\u001b[0;34m(\u001b[0m\u001b[0;34m'fill-mask'\u001b[0m\u001b[0;34m,\u001b[0m \u001b[0mmodel\u001b[0m\u001b[0;34m=\u001b[0m\u001b[0;34m'bert-base-uncased'\u001b[0m\u001b[0;34m)\u001b[0m\u001b[0;34m\u001b[0m\u001b[0;34m\u001b[0m\u001b[0m\n\u001b[0m",
      "\u001b[0;32m/usr/local/lib/python3.8/dist-packages/transformers/pipelines/__init__.py\u001b[0m in \u001b[0;36mpipeline\u001b[0;34m(task, model, config, tokenizer, feature_extractor, framework, revision, use_fast, use_auth_token, device, device_map, torch_dtype, trust_remote_code, model_kwargs, pipeline_class, **kwargs)\u001b[0m\n\u001b[1;32m    709\u001b[0m     \u001b[0;31m# Will load the correct model if possible\u001b[0m\u001b[0;34m\u001b[0m\u001b[0;34m\u001b[0m\u001b[0;34m\u001b[0m\u001b[0m\n\u001b[1;32m    710\u001b[0m     \u001b[0mmodel_classes\u001b[0m \u001b[0;34m=\u001b[0m \u001b[0;34m{\u001b[0m\u001b[0;34m\"tf\"\u001b[0m\u001b[0;34m:\u001b[0m \u001b[0mtargeted_task\u001b[0m\u001b[0;34m[\u001b[0m\u001b[0;34m\"tf\"\u001b[0m\u001b[0;34m]\u001b[0m\u001b[0;34m,\u001b[0m \u001b[0;34m\"pt\"\u001b[0m\u001b[0;34m:\u001b[0m \u001b[0mtargeted_task\u001b[0m\u001b[0;34m[\u001b[0m\u001b[0;34m\"pt\"\u001b[0m\u001b[0;34m]\u001b[0m\u001b[0;34m}\u001b[0m\u001b[0;34m\u001b[0m\u001b[0;34m\u001b[0m\u001b[0m\n\u001b[0;32m--> 711\u001b[0;31m     framework, model = infer_framework_load_model(\n\u001b[0m\u001b[1;32m    712\u001b[0m         \u001b[0mmodel\u001b[0m\u001b[0;34m,\u001b[0m\u001b[0;34m\u001b[0m\u001b[0;34m\u001b[0m\u001b[0m\n\u001b[1;32m    713\u001b[0m         \u001b[0mmodel_classes\u001b[0m\u001b[0;34m=\u001b[0m\u001b[0mmodel_classes\u001b[0m\u001b[0;34m,\u001b[0m\u001b[0;34m\u001b[0m\u001b[0;34m\u001b[0m\u001b[0m\n",
      "\u001b[0;32m/usr/local/lib/python3.8/dist-packages/transformers/pipelines/base.py\u001b[0m in \u001b[0;36minfer_framework_load_model\u001b[0;34m(model, config, model_classes, task, framework, **model_kwargs)\u001b[0m\n\u001b[1;32m    207\u001b[0m     \"\"\"\n\u001b[1;32m    208\u001b[0m     \u001b[0;32mif\u001b[0m \u001b[0;32mnot\u001b[0m \u001b[0mis_tf_available\u001b[0m\u001b[0;34m(\u001b[0m\u001b[0;34m)\u001b[0m \u001b[0;32mand\u001b[0m \u001b[0;32mnot\u001b[0m \u001b[0mis_torch_available\u001b[0m\u001b[0;34m(\u001b[0m\u001b[0;34m)\u001b[0m\u001b[0;34m:\u001b[0m\u001b[0;34m\u001b[0m\u001b[0;34m\u001b[0m\u001b[0m\n\u001b[0;32m--> 209\u001b[0;31m         raise RuntimeError(\n\u001b[0m\u001b[1;32m    210\u001b[0m             \u001b[0;34m\"At least one of TensorFlow 2.0 or PyTorch should be installed. \"\u001b[0m\u001b[0;34m\u001b[0m\u001b[0;34m\u001b[0m\u001b[0m\n\u001b[1;32m    211\u001b[0m             \u001b[0;34m\"To install TensorFlow 2.0, read the instructions at https://www.tensorflow.org/install/ \"\u001b[0m\u001b[0;34m\u001b[0m\u001b[0;34m\u001b[0m\u001b[0m\n",
      "\u001b[0;31mRuntimeError\u001b[0m: At least one of TensorFlow 2.0 or PyTorch should be installed. To install TensorFlow 2.0, read the instructions at https://www.tensorflow.org/install/ To install PyTorch, read the instructions at https://pytorch.org/."
     ]
    }
   ],
   "source": [
    "from transformers import pipeline\n",
    "\n",
    "unmasker = pipeline('fill-mask', model='bert-base-uncased')"
   ]
  },
  {
   "cell_type": "code",
   "execution_count": null,
   "id": "70b47105-d51a-4759-b311-3e10ea63fcf1",
   "metadata": {},
   "outputs": [],
   "source": [
    "my_model = "
   ]
  },
  {
   "cell_type": "code",
   "execution_count": null,
   "id": "f4faaa70-41d3-45a2-b673-6825e5f31962",
   "metadata": {},
   "outputs": [],
   "source": [
    "\"\"\"\n",
    "Call the `quickform()` function. The only mandatory argument is the model name (`model_name`). \n",
    "The function will automatically load the data from the CSV file, train the model, evaluate it and saves all the results in \n",
    "files starting with `model_name`.\n",
    "\"\"\"\n",
    "quickform(model_name = 'my_model', #need to define my-model\n",
    "          model_type = \"bert\", \n",
    "          model_huggingface_hub_name = \"bert-base-uncased\", \n",
    "          csv_file = 'data/feedback_prize_input.csv', \n",
    "          min_sentence_length = 5, \n",
    "          random_state = 1, \n",
    "          train_percentage = 0.8)"
   ]
  }
 ],
 "metadata": {
  "kernelspec": {
   "display_name": "ml4ed_venv",
   "language": "python",
   "name": "ml4ed_venv"
  },
  "language_info": {
   "codemirror_mode": {
    "name": "ipython",
    "version": 3
   },
   "file_extension": ".py",
   "mimetype": "text/x-python",
   "name": "python",
   "nbconvert_exporter": "python",
   "pygments_lexer": "ipython3",
   "version": "3.8.10"
  }
 },
 "nbformat": 4,
 "nbformat_minor": 5
}
